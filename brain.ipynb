{
 "cells": [
  {
   "cell_type": "code",
   "execution_count": 1,
   "metadata": {},
   "outputs": [],
   "source": [
    "import tensorflow as tf\n",
    "from pathlib import Path\n",
    "import matplotlib.pyplot as plt\n",
    "import cv2 as cv\n",
    "import os\n",
    "# import sklearn\n",
    "from sklearn import svm\n",
    "import numpy as np\n",
    "import time\n",
    "from sklearn.utils import shuffle\n",
    "from sklearn import metrics\n",
    "from sklearn.metrics import accuracy_score, roc_auc_score"
   ]
  },
  {
   "cell_type": "code",
   "execution_count": 2,
   "metadata": {},
   "outputs": [],
   "source": [
    "data_set_path = Path(f'{Path.cwd()}/brain_tumor_dataset')\n",
    "# print(f\"negative: {len(os.listdir(Path(data_set_path,'train','negative')))}, positive: {len(os.listdir(Path(data_set_path,'train','positive')))}\")"
   ]
  },
  {
   "cell_type": "code",
   "execution_count": 3,
   "metadata": {},
   "outputs": [
    {
     "name": "stdout",
     "output_type": "stream",
     "text": [
      "Positive train: 109, Negative train: 68\n",
      "Positive validation: 15, Negative validation: 11\n",
      "Positive test: 31, Negative test: 19\n"
     ]
    }
   ],
   "source": [
    "number_of_positive_train_samples = len(os.listdir(Path(data_set_path,'train','positive')))\n",
    "number_of_negative_train_samples = len(os.listdir(Path(data_set_path,'train','negative')))\n",
    "\n",
    "number_of_positive_validation_samples = len(os.listdir(Path(data_set_path,'validation','positive')))\n",
    "number_of_negative_validation_samples = len(os.listdir(Path(data_set_path,'validation','negative')))\n",
    "\n",
    "number_of_positive_test_samples = len(os.listdir(Path(data_set_path,'test','positive')))\n",
    "number_of_negative_test_samples = len(os.listdir(Path(data_set_path,'test','negative')))\n",
    "\n",
    "print(f\"Positive train: {number_of_positive_train_samples}, Negative train: {number_of_negative_train_samples}\")\n",
    "print(f\"Positive validation: {number_of_positive_validation_samples}, Negative validation: {number_of_negative_validation_samples}\")\n",
    "print(f\"Positive test: {number_of_positive_test_samples}, Negative test: {number_of_negative_test_samples}\")"
   ]
  },
  {
   "cell_type": "code",
   "execution_count": 4,
   "metadata": {},
   "outputs": [],
   "source": [
    "positive_train_target = np.ones(number_of_positive_train_samples)\n",
    "negative_train_target = np.zeros(number_of_negative_train_samples)\n",
    "\n",
    "positive_validation_target = np.ones(number_of_positive_validation_samples)\n",
    "negative_validation_target = np.zeros(number_of_negative_validation_samples)\n",
    "\n",
    "positive_test_target = np.ones(number_of_positive_test_samples)\n",
    "negative_test_target = np.zeros(number_of_negative_test_samples)\n"
   ]
  },
  {
   "cell_type": "code",
   "execution_count": 5,
   "metadata": {},
   "outputs": [
    {
     "name": "stdout",
     "output_type": "stream",
     "text": [
      "109 68\n"
     ]
    }
   ],
   "source": [
    "print(len(positive_train_target), len(negative_train_target))\n",
    "# print(len(positive_train_target), len(negative_train_target))"
   ]
  },
  {
   "cell_type": "code",
   "execution_count": 6,
   "metadata": {},
   "outputs": [
    {
     "name": "stdout",
     "output_type": "stream",
     "text": [
      "time taken: 0.15053149999585003\n",
      "time taken: 0.08341949999157805\n",
      "time taken: 0.010050800003227778\n",
      "time taken: 0.022467400005552918\n",
      "time taken: 0.030847299989545718\n",
      "time taken: 0.024979499998153187\n"
     ]
    }
   ],
   "source": [
    "def prepare_img_dataset(sub_dir:str='train', class_sub_dir='positive'):\n",
    "    start = time.perf_counter()\n",
    "    img_list = []\n",
    "    file_list = os.listdir(Path(data_set_path, sub_dir, class_sub_dir))\n",
    "    for img in file_list:\n",
    "        img_path = str(Path(data_set_path, sub_dir, class_sub_dir, img))\n",
    "        #read image in grayscale\n",
    "        read_file = cv.imread(str(img_path), cv.IMREAD_GRAYSCALE)\n",
    "        #resize image\n",
    "        read_file = cv.resize(read_file, (300, 300), cv.INTER_CUBIC)\n",
    "\n",
    "        img_list.append(read_file)\n",
    "    end = time.perf_counter()\n",
    "    print(f\"time taken: {end - start}\")\n",
    "    return img_list\n",
    "\n",
    "train_positive = prepare_img_dataset()\n",
    "train_negative = prepare_img_dataset(sub_dir='train', class_sub_dir='negative')\n",
    "validation_negative = prepare_img_dataset(sub_dir='validation', class_sub_dir='negative')\n",
    "validation_positive = prepare_img_dataset(sub_dir='validation', class_sub_dir='positive')\n",
    "test_positive = prepare_img_dataset(sub_dir='test', class_sub_dir='positive')\n",
    "test_negative = prepare_img_dataset(sub_dir='test', class_sub_dir='negative')\n"
   ]
  },
  {
   "cell_type": "code",
   "execution_count": 7,
   "metadata": {},
   "outputs": [
    {
     "name": "stdout",
     "output_type": "stream",
     "text": [
      "109 68\n",
      "177\n"
     ]
    }
   ],
   "source": [
    "print(len(train_positive),len(train_negative))\n",
    "print(len(positive_train_target)+len(negative_train_target))\n"
   ]
  },
  {
   "cell_type": "code",
   "execution_count": 8,
   "metadata": {},
   "outputs": [],
   "source": [
    "assert len(train_positive) == number_of_positive_train_samples,'not equal number_of_negative_test_samples lenghts'"
   ]
  },
  {
   "cell_type": "code",
   "execution_count": 9,
   "metadata": {},
   "outputs": [],
   "source": [
    "train_x = np.concatenate((train_positive,train_negative))\n",
    "train_y = np.concatenate((positive_train_target,negative_train_target))\n",
    "train_x, train_y = shuffle(train_x, train_y)"
   ]
  },
  {
   "cell_type": "code",
   "execution_count": 10,
   "metadata": {},
   "outputs": [],
   "source": [
    "val_x = np.concatenate((validation_positive,validation_negative))\n",
    "val_y = np.concatenate((positive_validation_target,negative_validation_target))\n",
    "val_x, val_y = shuffle(val_x, val_y)"
   ]
  },
  {
   "cell_type": "code",
   "execution_count": 11,
   "metadata": {},
   "outputs": [
    {
     "data": {
      "text/plain": [
       "(177, 90000)"
      ]
     },
     "execution_count": 11,
     "metadata": {},
     "output_type": "execute_result"
    }
   ],
   "source": [
    "#reshaping the baseline training dataset\n",
    "train_x= train_x.reshape((len(train_x), train_x[0].shape[0]*train_x[0].shape[1]))\n",
    "train_x.shape"
   ]
  },
  {
   "cell_type": "code",
   "execution_count": 12,
   "metadata": {},
   "outputs": [
    {
     "data": {
      "text/plain": [
       "(26, 90000)"
      ]
     },
     "execution_count": 12,
     "metadata": {},
     "output_type": "execute_result"
    }
   ],
   "source": [
    "#reshaping the baseline validation dataset\n",
    "val_x= val_x.reshape((len(val_x), val_x[0].shape[0]*val_x[0].shape[1]))\n",
    "val_x.shape"
   ]
  },
  {
   "cell_type": "markdown",
   "metadata": {},
   "source": [
    "Developing Baseline Prediction Model "
   ]
  },
  {
   "cell_type": "code",
   "execution_count": 13,
   "metadata": {},
   "outputs": [
    {
     "data": {
      "text/plain": [
       "SVC()"
      ]
     },
     "execution_count": 13,
     "metadata": {},
     "output_type": "execute_result"
    }
   ],
   "source": [
    "# classifier = svm.SVC(gamma=0.001)\n",
    "classifier = svm.SVC()\n",
    "classifier.fit(train_x, train_y)"
   ]
  },
  {
   "cell_type": "code",
   "execution_count": 14,
   "metadata": {},
   "outputs": [],
   "source": [
    "predicted = classifier.predict(val_x)"
   ]
  },
  {
   "cell_type": "code",
   "execution_count": 15,
   "metadata": {},
   "outputs": [
    {
     "name": "stdout",
     "output_type": "stream",
     "text": [
      "Classification report for classifier SVC():\n",
      "              precision    recall  f1-score   support\n",
      "\n",
      "         0.0       0.57      0.36      0.44        11\n",
      "         1.0       0.63      0.80      0.71        15\n",
      "\n",
      "    accuracy                           0.62        26\n",
      "   macro avg       0.60      0.58      0.58        26\n",
      "weighted avg       0.61      0.62      0.60        26\n",
      "\n",
      "\n"
     ]
    }
   ],
   "source": [
    "print(\n",
    "    f\"Classification report for classifier {classifier}:\\n\"\n",
    "    f\"{metrics.classification_report(val_y, predicted)}\\n\"\n",
    ")"
   ]
  },
  {
   "cell_type": "code",
   "execution_count": 17,
   "metadata": {},
   "outputs": [
    {
     "name": "stdout",
     "output_type": "stream",
     "text": [
      "Confusion matrix:\n",
      "[[ 4  7]\n",
      " [ 3 12]]\n"
     ]
    },
    {
     "data": {
      "image/png": "[encoded data removed]",
      "text/plain": [
       "<Figure size 640x480 with 2 Axes>"
      ]
     },
     "metadata": {},
     "output_type": "display_data"
    }
   ],
   "source": [
    "disp = metrics.ConfusionMatrixDisplay.from_predictions(val_y, predicted)\n",
    "disp.figure_.suptitle(\"Confusion Matrix\")\n",
    "print(f\"Confusion matrix:\\n{disp.confusion_matrix}\")\n",
    "\n",
    "plt.show()"
   ]
  },
  {
   "cell_type": "code",
   "execution_count": 18,
   "metadata": {},
   "outputs": [
    {
     "name": "stdout",
     "output_type": "stream",
     "text": [
      "Our baseline accuracy on the validation set is 0.6154 and AUC is 0.5818\n"
     ]
    }
   ],
   "source": [
    "acc_score = accuracy_score(val_y, predicted)\n",
    "auc_score = roc_auc_score(val_y, predicted)\n",
    "print(\n",
    "    f\"Our baseline accuracy on the validation set is {acc_score:0.4f} and AUC is {auc_score:0.4f}\"\n",
    ")"
   ]
  },
  {
   "cell_type": "code",
   "execution_count": 53,
   "metadata": {},
   "outputs": [
    {
     "name": "stdout",
     "output_type": "stream",
     "text": [
      "Found 177 files belonging to 2 classes.\n",
      "Found 50 files belonging to 2 classes.\n",
      "Found 26 files belonging to 2 classes.\n"
     ]
    }
   ],
   "source": [
    "def img_from_dir_pipeline(dataPath):\n",
    "    return tf.keras.utils.image_dataset_from_directory(\n",
    "        data_set_path/dataPath,\n",
    "        image_size = (300, 300 ),\n",
    "        batch_size = 15\n",
    "    )\n",
    "\n",
    "train_dataset = img_from_dir_pipeline(Path(f'{data_set_path}/train'))\n",
    "test_dataset = img_from_dir_pipeline(Path(f'{data_set_path}/test'))\n",
    "validation_dataset = img_from_dir_pipeline(Path(f'{data_set_path}/validation'))"
   ]
  },
  {
   "cell_type": "code",
   "execution_count": 44,
   "metadata": {},
   "outputs": [],
   "source": [
    "data_augmentation = tf.keras.Sequential(\n",
    " [\n",
    " tf.keras.layers.RandomFlip(\"horizontal\", \"veritcal\"),\n",
    " tf.keras.layers.RandomRotation(0.5),\n",
    " tf.keras.layers.RandomZoom(0.2),\n",
    " ]\n",
    ")"
   ]
  },
  {
   "cell_type": "code",
   "execution_count": 49,
   "metadata": {},
   "outputs": [],
   "source": [
    "# train_positive[0].shape[0]\n"
   ]
  },
  {
   "cell_type": "code",
   "execution_count": 54,
   "metadata": {},
   "outputs": [],
   "source": [
    "def build_model():\n",
    "    input_layer = tf.keras.layers.Input(shape=(300,300,3))\n",
    "    # augmentedData = data_augmentation(input_layer)\n",
    "    # rescaleInputs = tf.keras.layers.Rescaling(1./255)(augmentedData)\n",
    "    convLayer = tf.keras.layers.Conv2D(filters=8, kernel_size=3, activation='relu')(input_layer)\n",
    "    # convLayer = tf.keras.layers.Conv2D(filters=8, kernel_size=3, activation='relu')(rescaleInputs)\n",
    "    maxPoolLayer = tf.keras.layers.MaxPool2D(pool_size=4)(convLayer)\n",
    "    convLayer = tf.keras.layers.Conv2D(filters=16, kernel_size=3, activation='relu')(maxPoolLayer)\n",
    "    maxPoolLayer = tf.keras.layers.MaxPool2D(pool_size=4)(convLayer)\n",
    "    convLayer = tf.keras.layers.Conv2D(filters=32, kernel_size=3, activation='relu')(maxPoolLayer)\n",
    "    maxPoolLayer = tf.keras.layers.MaxPool2D(pool_size=4)(convLayer)\n",
    "    convLayer = tf.keras.layers.Conv2D(filters=64, kernel_size=3, activation='relu')(maxPoolLayer)\n",
    "    # maxPoolLayer = tf.keras.layers.MaxPool2D(pool_size=2)(convLayer)\n",
    "    # convLayer = tf.keras.layers.Conv2D(filters=128, kernel_size=3, activation='relu')(maxPoolLayer)\n",
    "    flattenedLayer = tf.keras.layers.Flatten()(convLayer)\n",
    "    outputLayer = tf.keras.layers.Dense(1, activation='sigmoid')(flattenedLayer)\n",
    "    return tf.keras.Model(inputs=input_layer, outputs=outputLayer)\n",
    "    "
   ]
  },
  {
   "cell_type": "code",
   "execution_count": 55,
   "metadata": {},
   "outputs": [],
   "source": [
    "model  = build_model()\n",
    "# compiling the model\n",
    "model.compile(\n",
    "    loss=\"binary_crossentropy\",\n",
    "    optimizer=\"rmsprop\",\n",
    "    metrics=[\"accuracy\"],\n",
    ")"
   ]
  },
  {
   "cell_type": "code",
   "execution_count": 23,
   "metadata": {},
   "outputs": [
    {
     "name": "stdout",
     "output_type": "stream",
     "text": [
      "Model: \"model\"\n",
      "_________________________________________________________________\n",
      " Layer (type)                Output Shape              Param #   \n",
      "=================================================================\n",
      " input_1 (InputLayer)        [(None, 300, 300, 3)]     0         \n",
      "                                                                 \n",
      " conv2d (Conv2D)             (None, 298, 298, 8)       224       \n",
      "                                                                 \n",
      " max_pooling2d (MaxPooling2D  (None, 74, 74, 8)        0         \n",
      " )                                                               \n",
      "                                                                 \n",
      " conv2d_1 (Conv2D)           (None, 72, 72, 16)        1168      \n",
      "                                                                 \n",
      " max_pooling2d_1 (MaxPooling  (None, 18, 18, 16)       0         \n",
      " 2D)                                                             \n",
      "                                                                 \n",
      " conv2d_2 (Conv2D)           (None, 16, 16, 32)        4640      \n",
      "                                                                 \n",
      " max_pooling2d_2 (MaxPooling  (None, 4, 4, 32)         0         \n",
      " 2D)                                                             \n",
      "                                                                 \n",
      " conv2d_3 (Conv2D)           (None, 2, 2, 64)          18496     \n",
      "                                                                 \n",
      " flatten (Flatten)           (None, 256)               0         \n",
      "                                                                 \n",
      " dense (Dense)               (None, 1)                 257       \n",
      "                                                                 \n",
      "=================================================================\n",
      "Total params: 24,785\n",
      "Trainable params: 24,785\n",
      "Non-trainable params: 0\n",
      "_________________________________________________________________\n"
     ]
    }
   ],
   "source": [
    "model.summary()"
   ]
  },
  {
   "cell_type": "code",
   "execution_count": 24,
   "metadata": {},
   "outputs": [
    {
     "data": {
      "text/plain": [
       "ERROR: Could not find `tensorboard`. Please ensure that your PATH\n",
       "contains an executable `tensorboard` program, or explicitly specify\n",
       "the path to a TensorBoard binary by setting the `TENSORBOARD_BINARY`\n",
       "environment variable."
      ]
     },
     "metadata": {},
     "output_type": "display_data"
    }
   ],
   "source": [
    "%load_ext tensorboard\n",
    "\n",
    "%tensorboard --logdir tensorboard_log_dir"
   ]
  },
  {
   "cell_type": "code",
   "execution_count": 25,
   "metadata": {},
   "outputs": [
    {
     "name": "stdout",
     "output_type": "stream",
     "text": [
      "Epoch 1/20\n",
      "12/12 [==============================] - 3s 211ms/step - loss: 5.3412 - accuracy: 0.6215 - val_loss: 1.4197 - val_accuracy: 0.6154\n",
      "Epoch 2/20\n",
      "12/12 [==============================] - 2s 189ms/step - loss: 0.8689 - accuracy: 0.7684 - val_loss: 1.4229 - val_accuracy: 0.5769\n",
      "Epoch 3/20\n",
      "12/12 [==============================] - 2s 179ms/step - loss: 0.6972 - accuracy: 0.7853 - val_loss: 0.9752 - val_accuracy: 0.7308\n",
      "Epoch 4/20\n",
      "12/12 [==============================] - 2s 182ms/step - loss: 0.4787 - accuracy: 0.8136 - val_loss: 1.1709 - val_accuracy: 0.6538\n",
      "Epoch 5/20\n",
      "12/12 [==============================] - 2s 196ms/step - loss: 0.3743 - accuracy: 0.8418 - val_loss: 0.7946 - val_accuracy: 0.7308\n",
      "Epoch 6/20\n",
      "12/12 [==============================] - 3s 275ms/step - loss: 0.2826 - accuracy: 0.8983 - val_loss: 0.9960 - val_accuracy: 0.7308\n",
      "Epoch 7/20\n",
      "12/12 [==============================] - 3s 276ms/step - loss: 0.1839 - accuracy: 0.9379 - val_loss: 0.8747 - val_accuracy: 0.7308\n",
      "Epoch 8/20\n",
      "12/12 [==============================] - 3s 288ms/step - loss: 0.2113 - accuracy: 0.9209 - val_loss: 0.8793 - val_accuracy: 0.7308\n",
      "Epoch 9/20\n",
      "12/12 [==============================] - 3s 272ms/step - loss: 0.1175 - accuracy: 0.9548 - val_loss: 0.7249 - val_accuracy: 0.8077\n",
      "Epoch 10/20\n",
      "12/12 [==============================] - 3s 262ms/step - loss: 0.0789 - accuracy: 0.9718 - val_loss: 1.0513 - val_accuracy: 0.7692\n",
      "Epoch 11/20\n",
      "12/12 [==============================] - 3s 265ms/step - loss: 0.1942 - accuracy: 0.9153 - val_loss: 0.7146 - val_accuracy: 0.8077\n",
      "Epoch 12/20\n",
      "12/12 [==============================] - 3s 271ms/step - loss: 0.0369 - accuracy: 0.9944 - val_loss: 0.8655 - val_accuracy: 0.7308\n",
      "Epoch 13/20\n",
      "12/12 [==============================] - 3s 256ms/step - loss: 0.0139 - accuracy: 1.0000 - val_loss: 0.9526 - val_accuracy: 0.7308\n",
      "Epoch 14/20\n",
      "12/12 [==============================] - 3s 261ms/step - loss: 0.0058 - accuracy: 1.0000 - val_loss: 1.0472 - val_accuracy: 0.6923\n",
      "Epoch 15/20\n",
      "12/12 [==============================] - 3s 260ms/step - loss: 0.0045 - accuracy: 1.0000 - val_loss: 1.9206 - val_accuracy: 0.6923\n",
      "Epoch 16/20\n",
      "12/12 [==============================] - 3s 271ms/step - loss: 0.2468 - accuracy: 0.9096 - val_loss: 1.1637 - val_accuracy: 0.7308\n",
      "Epoch 17/20\n",
      "12/12 [==============================] - 3s 269ms/step - loss: 0.0073 - accuracy: 1.0000 - val_loss: 1.2300 - val_accuracy: 0.7308\n",
      "Epoch 18/20\n",
      "12/12 [==============================] - 3s 273ms/step - loss: 0.0027 - accuracy: 1.0000 - val_loss: 1.3619 - val_accuracy: 0.7308\n",
      "Epoch 19/20\n",
      "12/12 [==============================] - 3s 263ms/step - loss: 0.0015 - accuracy: 1.0000 - val_loss: 1.4883 - val_accuracy: 0.7308\n",
      "Epoch 20/20\n",
      "12/12 [==============================] - 3s 264ms/step - loss: 8.8250e-04 - accuracy: 1.0000 - val_loss: 1.5166 - val_accuracy: 0.7308\n"
     ]
    }
   ],
   "source": [
    "tensorboard_log_dir = Path(data_set_path,'logs')\n",
    "callback_list = [\n",
    "    tf.keras.callbacks.ModelCheckpoint(\n",
    "        filepath= 'brain_cancer-model_4.keras',\n",
    "        monitor= 'val_loss',\n",
    "        save_only_best= True\n",
    "    ),\n",
    "    tf.keras.callbacks.TensorBoard(\n",
    "        log_dir=tensorboard_log_dir, \n",
    "        histogram_freq=1,\n",
    "        update_freq='epoch',\n",
    "    )\n",
    "]\n",
    "\n",
    "history = model.fit(\n",
    "    train_dataset, \n",
    "    validation_data = validation_dataset,\n",
    "    epochs=20,\n",
    "    # learning_rate=0.001,\n",
    "    callbacks= callback_list\n",
    ")"
   ]
  },
  {
   "cell_type": "code",
   "execution_count": 26,
   "metadata": {},
   "outputs": [
    {
     "name": "stdout",
     "output_type": "stream",
     "text": [
      "4/4 [==============================] - 0s 51ms/step\n"
     ]
    },
    {
     "data": {
      "text/plain": [
       "array([[5.8836651e-01],\n",
       "       [2.8876922e-01],\n",
       "       [9.8901415e-01],\n",
       "       [9.9990922e-01],\n",
       "       [9.9991900e-01],\n",
       "       [9.9999988e-01],\n",
       "       [3.9284188e-02],\n",
       "       [7.1895724e-06],\n",
       "       [9.9946445e-01],\n",
       "       [9.9999678e-01],\n",
       "       [8.8117534e-01],\n",
       "       [1.0000000e+00],\n",
       "       [9.8800206e-01],\n",
       "       [9.8335713e-01],\n",
       "       [9.0992486e-01],\n",
       "       [4.8582866e-03],\n",
       "       [9.5553935e-01],\n",
       "       [5.1116824e-01],\n",
       "       [9.9901319e-01],\n",
       "       [8.1361161e-04],\n",
       "       [7.2096854e-01],\n",
       "       [9.9960649e-01],\n",
       "       [5.3420339e-02],\n",
       "       [3.8418722e-05],\n",
       "       [9.9762607e-01],\n",
       "       [3.2378633e-05],\n",
       "       [5.9938663e-01],\n",
       "       [1.4708539e-03],\n",
       "       [9.9890620e-01],\n",
       "       [9.9362004e-01],\n",
       "       [9.9431312e-01],\n",
       "       [8.8117534e-01],\n",
       "       [1.9128505e-03],\n",
       "       [8.7173128e-01],\n",
       "       [9.9982029e-01],\n",
       "       [2.0550755e-04],\n",
       "       [8.2798737e-01],\n",
       "       [7.2814066e-09],\n",
       "       [6.4985051e-07],\n",
       "       [9.9934238e-01],\n",
       "       [2.1999197e-04],\n",
       "       [9.9998593e-01],\n",
       "       [9.9384397e-01],\n",
       "       [4.7421545e-02],\n",
       "       [3.7501803e-01],\n",
       "       [9.9981320e-01],\n",
       "       [9.9445307e-01],\n",
       "       [9.9998790e-01],\n",
       "       [2.7828602e-02],\n",
       "       [9.9991602e-01]], dtype=float32)"
      ]
     },
     "execution_count": 26,
     "metadata": {},
     "output_type": "execute_result"
    }
   ],
   "source": [
    "model.predict(test_dataset)"
   ]
  },
  {
   "cell_type": "code",
   "execution_count": 28,
   "metadata": {},
   "outputs": [
    {
     "data": {
      "image/png": "[encoded data removed]",
      "text/plain": [
       "<Figure size 640x480 with 1 Axes>"
      ]
     },
     "metadata": {},
     "output_type": "display_data"
    },
    {
     "data": {
      "image/png": "[encoded data removed]",
      "text/plain": [
       "<Figure size 640x480 with 1 Axes>"
      ]
     },
     "metadata": {},
     "output_type": "display_data"
    }
   ],
   "source": [
    "accuracy = history.history[\"accuracy\"]\n",
    "val_accuracy = history.history[\"val_accuracy\"]\n",
    "loss = history.history[\"loss\"]\n",
    "val_loss = history.history[\"val_loss\"]\n",
    "epochs = range(1, len(accuracy) + 1)\n",
    "plt.plot(epochs, accuracy, \"bo\", label=\"Training accuracy\")\n",
    "plt.plot(epochs, val_accuracy, \"b\", label=\"Validation accuracy\")\n",
    "plt.title(\"Training and validation accuracy\")\n",
    "plt.legend()\n",
    "plt.figure()\n",
    "plt.plot(epochs, loss, \"bo\", label=\"Training loss\")\n",
    "plt.plot(epochs, val_loss, \"b\", label=\"Validation loss\")\n",
    "plt.title(\"Training and validation loss\")\n",
    "plt.legend()\n",
    "plt.show()"
   ]
  },
  {
   "cell_type": "code",
   "execution_count": 56,
   "metadata": {},
   "outputs": [
    {
     "name": "stdout",
     "output_type": "stream",
     "text": [
      "uint8\n",
      "(300, 300, 3)\n",
      "loading model\n",
      "model loaded\n"
     ]
    },
    {
     "ename": "ValueError",
     "evalue": "in user code:\n\n    File \"C:\\Users\\senanuk\\AppData\\Local\\Packages\\PythonSoftwareFoundation.Python.3.10_qbz5n2kfra8p0\\LocalCache\\local-packages\\Python310\\site-packages\\keras\\engine\\training.py\", line 2041, in predict_function  *\n        return step_function(self, iterator)\n    File \"C:\\Users\\senanuk\\AppData\\Local\\Packages\\PythonSoftwareFoundation.Python.3.10_qbz5n2kfra8p0\\LocalCache\\local-packages\\Python310\\site-packages\\keras\\engine\\training.py\", line 2027, in step_function  **\n        outputs = model.distribute_strategy.run(run_step, args=(data,))\n    File \"C:\\Users\\senanuk\\AppData\\Local\\Packages\\PythonSoftwareFoundation.Python.3.10_qbz5n2kfra8p0\\LocalCache\\local-packages\\Python310\\site-packages\\keras\\engine\\training.py\", line 2015, in run_step  **\n        outputs = model.predict_step(data)\n    File \"C:\\Users\\senanuk\\AppData\\Local\\Packages\\PythonSoftwareFoundation.Python.3.10_qbz5n2kfra8p0\\LocalCache\\local-packages\\Python310\\site-packages\\keras\\engine\\training.py\", line 1983, in predict_step\n        return self(x, training=False)\n    File \"C:\\Users\\senanuk\\AppData\\Local\\Packages\\PythonSoftwareFoundation.Python.3.10_qbz5n2kfra8p0\\LocalCache\\local-packages\\Python310\\site-packages\\keras\\utils\\traceback_utils.py\", line 70, in error_handler\n        raise e.with_traceback(filtered_tb) from None\n    File \"C:\\Users\\senanuk\\AppData\\Local\\Packages\\PythonSoftwareFoundation.Python.3.10_qbz5n2kfra8p0\\LocalCache\\local-packages\\Python310\\site-packages\\keras\\engine\\input_spec.py\", line 295, in assert_input_compatibility\n        raise ValueError(\n\n    ValueError: Input 0 of layer \"model\" is incompatible with the layer: expected shape=(None, 300, 300, 3), found shape=(None, 300, 3)\n",
     "output_type": "error",
     "traceback": [
      "\u001b[1;31m---------------------------------------------------------------------------\u001b[0m",
      "\u001b[1;31mValueError\u001b[0m                                Traceback (most recent call last)",
      "Cell \u001b[1;32mIn [56], line 9\u001b[0m\n\u001b[0;32m      7\u001b[0m model_loaded \u001b[39m=\u001b[39m tf\u001b[39m.\u001b[39mkeras\u001b[39m.\u001b[39mmodels\u001b[39m.\u001b[39mload_model(Path(Path\u001b[39m.\u001b[39mcwd(),\u001b[39m\"\u001b[39m\u001b[39mbrain_cancer-model.keras\u001b[39m\u001b[39m\"\u001b[39m))\n\u001b[0;32m      8\u001b[0m \u001b[39mprint\u001b[39m(\u001b[39m'\u001b[39m\u001b[39mmodel loaded\u001b[39m\u001b[39m'\u001b[39m)\n\u001b[1;32m----> 9\u001b[0m model_loaded\u001b[39m.\u001b[39;49mpredict(read_img)\n",
      "File \u001b[1;32m~\\AppData\\Local\\Packages\\PythonSoftwareFoundation.Python.3.10_qbz5n2kfra8p0\\LocalCache\\local-packages\\Python310\\site-packages\\keras\\utils\\traceback_utils.py:70\u001b[0m, in \u001b[0;36mfilter_traceback.<locals>.error_handler\u001b[1;34m(*args, **kwargs)\u001b[0m\n\u001b[0;32m     67\u001b[0m     filtered_tb \u001b[39m=\u001b[39m _process_traceback_frames(e\u001b[39m.\u001b[39m__traceback__)\n\u001b[0;32m     68\u001b[0m     \u001b[39m# To get the full stack trace, call:\u001b[39;00m\n\u001b[0;32m     69\u001b[0m     \u001b[39m# `tf.debugging.disable_traceback_filtering()`\u001b[39;00m\n\u001b[1;32m---> 70\u001b[0m     \u001b[39mraise\u001b[39;00m e\u001b[39m.\u001b[39mwith_traceback(filtered_tb) \u001b[39mfrom\u001b[39;00m \u001b[39mNone\u001b[39m\n\u001b[0;32m     71\u001b[0m \u001b[39mfinally\u001b[39;00m:\n\u001b[0;32m     72\u001b[0m     \u001b[39mdel\u001b[39;00m filtered_tb\n",
      "File \u001b[1;32m~\\AppData\\Local\\Temp\\__autograph_generated_filehl96habf.py:15\u001b[0m, in \u001b[0;36mouter_factory.<locals>.inner_factory.<locals>.tf__predict_function\u001b[1;34m(iterator)\u001b[0m\n\u001b[0;32m     13\u001b[0m \u001b[39mtry\u001b[39;00m:\n\u001b[0;32m     14\u001b[0m     do_return \u001b[39m=\u001b[39m \u001b[39mTrue\u001b[39;00m\n\u001b[1;32m---> 15\u001b[0m     retval_ \u001b[39m=\u001b[39m ag__\u001b[39m.\u001b[39mconverted_call(ag__\u001b[39m.\u001b[39mld(step_function), (ag__\u001b[39m.\u001b[39mld(\u001b[39mself\u001b[39m), ag__\u001b[39m.\u001b[39mld(iterator)), \u001b[39mNone\u001b[39;00m, fscope)\n\u001b[0;32m     16\u001b[0m \u001b[39mexcept\u001b[39;00m:\n\u001b[0;32m     17\u001b[0m     do_return \u001b[39m=\u001b[39m \u001b[39mFalse\u001b[39;00m\n",
      "\u001b[1;31mValueError\u001b[0m: in user code:\n\n    File \"C:\\Users\\senanuk\\AppData\\Local\\Packages\\PythonSoftwareFoundation.Python.3.10_qbz5n2kfra8p0\\LocalCache\\local-packages\\Python310\\site-packages\\keras\\engine\\training.py\", line 2041, in predict_function  *\n        return step_function(self, iterator)\n    File \"C:\\Users\\senanuk\\AppData\\Local\\Packages\\PythonSoftwareFoundation.Python.3.10_qbz5n2kfra8p0\\LocalCache\\local-packages\\Python310\\site-packages\\keras\\engine\\training.py\", line 2027, in step_function  **\n        outputs = model.distribute_strategy.run(run_step, args=(data,))\n    File \"C:\\Users\\senanuk\\AppData\\Local\\Packages\\PythonSoftwareFoundation.Python.3.10_qbz5n2kfra8p0\\LocalCache\\local-packages\\Python310\\site-packages\\keras\\engine\\training.py\", line 2015, in run_step  **\n        outputs = model.predict_step(data)\n    File \"C:\\Users\\senanuk\\AppData\\Local\\Packages\\PythonSoftwareFoundation.Python.3.10_qbz5n2kfra8p0\\LocalCache\\local-packages\\Python310\\site-packages\\keras\\engine\\training.py\", line 1983, in predict_step\n        return self(x, training=False)\n    File \"C:\\Users\\senanuk\\AppData\\Local\\Packages\\PythonSoftwareFoundation.Python.3.10_qbz5n2kfra8p0\\LocalCache\\local-packages\\Python310\\site-packages\\keras\\utils\\traceback_utils.py\", line 70, in error_handler\n        raise e.with_traceback(filtered_tb) from None\n    File \"C:\\Users\\senanuk\\AppData\\Local\\Packages\\PythonSoftwareFoundation.Python.3.10_qbz5n2kfra8p0\\LocalCache\\local-packages\\Python310\\site-packages\\keras\\engine\\input_spec.py\", line 295, in assert_input_compatibility\n        raise ValueError(\n\n    ValueError: Input 0 of layer \"model\" is incompatible with the layer: expected shape=(None, 300, 300, 3), found shape=(None, 300, 3)\n"
     ]
    }
   ],
   "source": [
    "imgPath = str(Path(data_set_path,'train','positive','Y1.jpg'))\n",
    "read_img = cv.imread(imgPath)\n",
    "read_img = cv.resize(read_img, (300, 300), cv.INTER_CUBIC)\n",
    "print(read_img.dtype)\n",
    "print(read_img.shape)\n",
    "print('loading model')\n",
    "model_loaded = tf.keras.models.load_model(Path(Path.cwd(),\"brain_cancer-model.keras\"))\n",
    "print('model loaded')\n",
    "model_loaded.predict(read_img)"
   ]
  },
  {
   "cell_type": "code",
   "execution_count": null,
   "metadata": {},
   "outputs": [],
   "source": []
  }
 ],
 "metadata": {
  "kernelspec": {
   "display_name": "Python 3",
   "language": "python",
   "name": "python3"
  },
  "language_info": {
   "codemirror_mode": {
    "name": "ipython",
    "version": 3
   },
   "file_extension": ".py",
   "mimetype": "text/x-python",
   "name": "python",
   "nbconvert_exporter": "python",
   "pygments_lexer": "ipython3",
   "version": "3.10.10"
  },
  "orig_nbformat": 4,
  "vscode": {
   "interpreter": {
    "hash": "45de9f1f31658a9be93a780c3d179c8408ed71997b8936e6748cc9e1d8c0ead4"
   }
  }
 },
 "nbformat": 4,
 "nbformat_minor": 2
}
