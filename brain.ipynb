{
 "cells": [
  {
   "cell_type": "code",
   "execution_count": 55,
   "metadata": {},
   "outputs": [],
   "source": [
    "import tensorflow as tf\n",
    "from pathlib import Path\n",
    "import os\n",
    "import glob\n",
    "import shutil\n",
    "import matplotlib.pyplot as plt\n",
    "import cv2 as cv\n",
    "import random"
   ]
  },
  {
   "cell_type": "code",
   "execution_count": 56,
   "metadata": {},
   "outputs": [
    {
     "data": {
      "text/plain": [
       "WindowsPath('c:/Users/senanuk/Documents/brain-cnn/brain_tumor_dataset/train')"
      ]
     },
     "execution_count": 56,
     "metadata": {},
     "output_type": "execute_result"
    }
   ],
   "source": [
    "data_set_path = Path(f'{Path.cwd()}/brain_tumor_dataset')\n",
    "Path(data_set_path,'train')"
   ]
  },
  {
   "cell_type": "code",
   "execution_count": 57,
   "metadata": {},
   "outputs": [
    {
     "name": "stdout",
     "output_type": "stream",
     "text": [
      "Found 177 files belonging to 2 classes.\n",
      "Found 50 files belonging to 2 classes.\n",
      "Found 26 files belonging to 2 classes.\n"
     ]
    }
   ],
   "source": [
    "def img_from_dir_pipeline(dataPath):\n",
    "    return tf.keras.utils.image_dataset_from_directory(\n",
    "        data_set_path/dataPath,\n",
    "        image_size = (300, 300 ),\n",
    "        batch_size = 5\n",
    "    )\n",
    "\n",
    "train_dataset = img_from_dir_pipeline(Path(f'{data_set_path}/train'))\n",
    "test_dataset = img_from_dir_pipeline(Path(f'{data_set_path}/test'))\n",
    "validation_dataset = img_from_dir_pipeline(Path(f'{data_set_path}/validation'))"
   ]
  },
  {
   "cell_type": "code",
   "execution_count": 58,
   "metadata": {},
   "outputs": [],
   "source": [
    "data_augmentation = tf.keras.Sequential(\n",
    " [\n",
    " tf.keras.layers.RandomFlip(\"horizontal\"),\n",
    " tf.keras.layers.RandomRotation(0.1),\n",
    " tf.keras.layers.RandomZoom(0.2),\n",
    " ]\n",
    ")"
   ]
  },
  {
   "cell_type": "code",
   "execution_count": 59,
   "metadata": {},
   "outputs": [],
   "source": [
    "def build_model():\n",
    "    input_layer = tf.keras.layers.Input(shape=(300, 300, 3))\n",
    "    # augmentedData = data_augmentation(input_layer)\n",
    "    rescaleInputs = tf.keras.layers.Rescaling(1./255)(input_layer)\n",
    "    convLayer = tf.keras.layers.Conv2D(filters=32, kernel_size=3, activation='relu')(rescaleInputs)\n",
    "    maxPoolLayer = tf.keras.layers.MaxPool2D(pool_size=2)(convLayer)\n",
    "    convLayer = tf.keras.layers.Conv2D(filters=64, kernel_size=3, activation='relu')(maxPoolLayer)\n",
    "    maxPoolLayer = tf.keras.layers.MaxPool2D(pool_size=2)(convLayer)\n",
    "    convLayer = tf.keras.layers.Conv2D(filters=128, kernel_size=3, activation='relu')(maxPoolLayer)\n",
    "    flattenedLayer = tf.keras.layers.Flatten()(convLayer)\n",
    "    outputLayer = tf.keras.layers.Dense(1, activation='sigmoid')(flattenedLayer)\n",
    "    return tf.keras.Model(inputs=input_layer, outputs=outputLayer)\n",
    "    "
   ]
  },
  {
   "cell_type": "code",
   "execution_count": 60,
   "metadata": {},
   "outputs": [],
   "source": [
    "tensorboard_log_dir = Path(data_set_path,'logs')\n",
    "callback_list = [\n",
    "    tf.keras.callbacks.ModelCheckpoint(\n",
    "        filepath= 'brain_cancer-model',\n",
    "        monitor= 'val_loss',\n",
    "        save_only_best= True\n",
    "    ),\n",
    "    tf.keras.callbacks.TensorBoard(\n",
    "        log_dir=tensorboard_log_dir, \n",
    "        histogram_freq=1\n",
    "    )\n",
    "]"
   ]
  },
  {
   "cell_type": "code",
   "execution_count": 61,
   "metadata": {},
   "outputs": [],
   "source": [
    "# compiling the model\n",
    "model  = build_model()\n",
    "model.compile(\n",
    "    loss=\"binary_crossentropy\",\n",
    "    optimizer=\"rmsprop\",\n",
    "    metrics=[\"accuracy\"],\n",
    ")"
   ]
  },
  {
   "cell_type": "code",
   "execution_count": 62,
   "metadata": {},
   "outputs": [
    {
     "name": "stderr",
     "output_type": "stream",
     "text": [
      "UsageError: Line magic function `%tensorboard` not found.\n"
     ]
    }
   ],
   "source": [
    "%tensorboard --logdir tensorboard_log_dir\n",
    "model.summary()"
   ]
  },
  {
   "cell_type": "code",
   "execution_count": 63,
   "metadata": {},
   "outputs": [
    {
     "name": "stdout",
     "output_type": "stream",
     "text": [
      "Epoch 1/10\n",
      "36/36 [==============================] - ETA: 0s - loss: 1.2156 - accuracy: 0.7062"
     ]
    },
    {
     "name": "stderr",
     "output_type": "stream",
     "text": [
      "WARNING:absl:Found untraced functions such as _jit_compiled_convolution_op, _jit_compiled_convolution_op, _jit_compiled_convolution_op while saving (showing 3 of 3). These functions will not be directly callable after loading.\n"
     ]
    },
    {
     "name": "stdout",
     "output_type": "stream",
     "text": [
      "INFO:tensorflow:Assets written to: brain_cancer-model\\assets\n"
     ]
    },
    {
     "name": "stderr",
     "output_type": "stream",
     "text": [
      "INFO:tensorflow:Assets written to: brain_cancer-model\\assets\n"
     ]
    },
    {
     "name": "stdout",
     "output_type": "stream",
     "text": [
      "36/36 [==============================] - 11s 284ms/step - loss: 1.2156 - accuracy: 0.7062 - val_loss: 1.0050 - val_accuracy: 0.5769\n",
      "Epoch 2/10\n",
      "36/36 [==============================] - ETA: 0s - loss: 0.4755 - accuracy: 0.8079"
     ]
    },
    {
     "name": "stderr",
     "output_type": "stream",
     "text": [
      "WARNING:absl:Found untraced functions such as _jit_compiled_convolution_op, _jit_compiled_convolution_op, _jit_compiled_convolution_op while saving (showing 3 of 3). These functions will not be directly callable after loading.\n"
     ]
    },
    {
     "name": "stdout",
     "output_type": "stream",
     "text": [
      "INFO:tensorflow:Assets written to: brain_cancer-model\\assets\n"
     ]
    },
    {
     "name": "stderr",
     "output_type": "stream",
     "text": [
      "INFO:tensorflow:Assets written to: brain_cancer-model\\assets\n"
     ]
    },
    {
     "name": "stdout",
     "output_type": "stream",
     "text": [
      "36/36 [==============================] - 14s 395ms/step - loss: 0.4755 - accuracy: 0.8079 - val_loss: 0.8618 - val_accuracy: 0.6923\n",
      "Epoch 3/10\n",
      "36/36 [==============================] - ETA: 0s - loss: 0.2554 - accuracy: 0.8814"
     ]
    },
    {
     "name": "stderr",
     "output_type": "stream",
     "text": [
      "WARNING:absl:Found untraced functions such as _jit_compiled_convolution_op, _jit_compiled_convolution_op, _jit_compiled_convolution_op while saving (showing 3 of 3). These functions will not be directly callable after loading.\n"
     ]
    },
    {
     "name": "stdout",
     "output_type": "stream",
     "text": [
      "INFO:tensorflow:Assets written to: brain_cancer-model\\assets\n"
     ]
    },
    {
     "name": "stderr",
     "output_type": "stream",
     "text": [
      "INFO:tensorflow:Assets written to: brain_cancer-model\\assets\n"
     ]
    },
    {
     "name": "stdout",
     "output_type": "stream",
     "text": [
      "36/36 [==============================] - 15s 426ms/step - loss: 0.2554 - accuracy: 0.8814 - val_loss: 1.6507 - val_accuracy: 0.6923\n",
      "Epoch 4/10\n",
      "36/36 [==============================] - ETA: 0s - loss: 0.1940 - accuracy: 0.9322"
     ]
    },
    {
     "name": "stderr",
     "output_type": "stream",
     "text": [
      "WARNING:absl:Found untraced functions such as _jit_compiled_convolution_op, _jit_compiled_convolution_op, _jit_compiled_convolution_op while saving (showing 3 of 3). These functions will not be directly callable after loading.\n"
     ]
    },
    {
     "name": "stdout",
     "output_type": "stream",
     "text": [
      "INFO:tensorflow:Assets written to: brain_cancer-model\\assets\n"
     ]
    },
    {
     "name": "stderr",
     "output_type": "stream",
     "text": [
      "INFO:tensorflow:Assets written to: brain_cancer-model\\assets\n"
     ]
    },
    {
     "name": "stdout",
     "output_type": "stream",
     "text": [
      "36/36 [==============================] - 17s 479ms/step - loss: 0.1940 - accuracy: 0.9322 - val_loss: 2.0652 - val_accuracy: 0.6923\n",
      "Epoch 5/10\n",
      "36/36 [==============================] - ETA: 0s - loss: 0.0785 - accuracy: 0.9661"
     ]
    },
    {
     "name": "stderr",
     "output_type": "stream",
     "text": [
      "WARNING:absl:Found untraced functions such as _jit_compiled_convolution_op, _jit_compiled_convolution_op, _jit_compiled_convolution_op while saving (showing 3 of 3). These functions will not be directly callable after loading.\n"
     ]
    },
    {
     "name": "stdout",
     "output_type": "stream",
     "text": [
      "INFO:tensorflow:Assets written to: brain_cancer-model\\assets\n"
     ]
    },
    {
     "name": "stderr",
     "output_type": "stream",
     "text": [
      "INFO:tensorflow:Assets written to: brain_cancer-model\\assets\n"
     ]
    },
    {
     "name": "stdout",
     "output_type": "stream",
     "text": [
      "36/36 [==============================] - 17s 472ms/step - loss: 0.0785 - accuracy: 0.9661 - val_loss: 3.7261 - val_accuracy: 0.6538\n",
      "Epoch 6/10\n",
      "36/36 [==============================] - ETA: 0s - loss: 0.0565 - accuracy: 0.9661"
     ]
    },
    {
     "name": "stderr",
     "output_type": "stream",
     "text": [
      "WARNING:absl:Found untraced functions such as _jit_compiled_convolution_op, _jit_compiled_convolution_op, _jit_compiled_convolution_op while saving (showing 3 of 3). These functions will not be directly callable after loading.\n"
     ]
    },
    {
     "name": "stdout",
     "output_type": "stream",
     "text": [
      "INFO:tensorflow:Assets written to: brain_cancer-model\\assets\n"
     ]
    },
    {
     "name": "stderr",
     "output_type": "stream",
     "text": [
      "INFO:tensorflow:Assets written to: brain_cancer-model\\assets\n"
     ]
    },
    {
     "name": "stdout",
     "output_type": "stream",
     "text": [
      "36/36 [==============================] - 16s 448ms/step - loss: 0.0565 - accuracy: 0.9661 - val_loss: 2.8530 - val_accuracy: 0.6923\n",
      "Epoch 7/10\n",
      "36/36 [==============================] - ETA: 0s - loss: 0.0164 - accuracy: 0.9944"
     ]
    },
    {
     "name": "stderr",
     "output_type": "stream",
     "text": [
      "WARNING:absl:Found untraced functions such as _jit_compiled_convolution_op, _jit_compiled_convolution_op, _jit_compiled_convolution_op while saving (showing 3 of 3). These functions will not be directly callable after loading.\n"
     ]
    },
    {
     "name": "stdout",
     "output_type": "stream",
     "text": [
      "INFO:tensorflow:Assets written to: brain_cancer-model\\assets\n"
     ]
    },
    {
     "name": "stderr",
     "output_type": "stream",
     "text": [
      "INFO:tensorflow:Assets written to: brain_cancer-model\\assets\n"
     ]
    },
    {
     "name": "stdout",
     "output_type": "stream",
     "text": [
      "36/36 [==============================] - 16s 449ms/step - loss: 0.0164 - accuracy: 0.9944 - val_loss: 3.7793 - val_accuracy: 0.6923\n",
      "Epoch 8/10\n",
      "36/36 [==============================] - ETA: 0s - loss: 3.3177e-05 - accuracy: 1.0000"
     ]
    },
    {
     "name": "stderr",
     "output_type": "stream",
     "text": [
      "WARNING:absl:Found untraced functions such as _jit_compiled_convolution_op, _jit_compiled_convolution_op, _jit_compiled_convolution_op while saving (showing 3 of 3). These functions will not be directly callable after loading.\n"
     ]
    },
    {
     "name": "stdout",
     "output_type": "stream",
     "text": [
      "INFO:tensorflow:Assets written to: brain_cancer-model\\assets\n"
     ]
    },
    {
     "name": "stderr",
     "output_type": "stream",
     "text": [
      "INFO:tensorflow:Assets written to: brain_cancer-model\\assets\n"
     ]
    },
    {
     "name": "stdout",
     "output_type": "stream",
     "text": [
      "36/36 [==============================] - 17s 469ms/step - loss: 3.3177e-05 - accuracy: 1.0000 - val_loss: 4.2450 - val_accuracy: 0.6538\n",
      "Epoch 9/10\n",
      "36/36 [==============================] - ETA: 0s - loss: 0.3791 - accuracy: 0.9831"
     ]
    },
    {
     "name": "stderr",
     "output_type": "stream",
     "text": [
      "WARNING:absl:Found untraced functions such as _jit_compiled_convolution_op, _jit_compiled_convolution_op, _jit_compiled_convolution_op while saving (showing 3 of 3). These functions will not be directly callable after loading.\n"
     ]
    },
    {
     "name": "stdout",
     "output_type": "stream",
     "text": [
      "INFO:tensorflow:Assets written to: brain_cancer-model\\assets\n"
     ]
    },
    {
     "name": "stderr",
     "output_type": "stream",
     "text": [
      "INFO:tensorflow:Assets written to: brain_cancer-model\\assets\n"
     ]
    },
    {
     "name": "stdout",
     "output_type": "stream",
     "text": [
      "36/36 [==============================] - 19s 524ms/step - loss: 0.3791 - accuracy: 0.9831 - val_loss: 2.5326 - val_accuracy: 0.6154\n",
      "Epoch 10/10\n",
      "36/36 [==============================] - ETA: 0s - loss: 7.3075e-04 - accuracy: 1.0000"
     ]
    },
    {
     "name": "stderr",
     "output_type": "stream",
     "text": [
      "WARNING:absl:Found untraced functions such as _jit_compiled_convolution_op, _jit_compiled_convolution_op, _jit_compiled_convolution_op while saving (showing 3 of 3). These functions will not be directly callable after loading.\n"
     ]
    },
    {
     "name": "stdout",
     "output_type": "stream",
     "text": [
      "INFO:tensorflow:Assets written to: brain_cancer-model\\assets\n"
     ]
    },
    {
     "name": "stderr",
     "output_type": "stream",
     "text": [
      "INFO:tensorflow:Assets written to: brain_cancer-model\\assets\n"
     ]
    },
    {
     "name": "stdout",
     "output_type": "stream",
     "text": [
      "36/36 [==============================] - 17s 479ms/step - loss: 7.3075e-04 - accuracy: 1.0000 - val_loss: 3.1685 - val_accuracy: 0.6538\n"
     ]
    }
   ],
   "source": [
    "history = model.fit(\n",
    "    train_dataset, \n",
    "    validation_data = validation_dataset,\n",
    "    epochs=10,\n",
    "    # learning_rate=0.001,\n",
    "    callbacks= callback_list\n",
    ")"
   ]
  },
  {
   "cell_type": "code",
   "execution_count": 64,
   "metadata": {},
   "outputs": [
    {
     "data": {
      "image/png": "[encoded data removed]",
      "text/plain": [
       "<Figure size 640x480 with 1 Axes>"
      ]
     },
     "metadata": {},
     "output_type": "display_data"
    },
    {
     "data": {
      "image/png": "[encoded data removed]",
      "text/plain": [
       "<Figure size 640x480 with 1 Axes>"
      ]
     },
     "metadata": {},
     "output_type": "display_data"
    }
   ],
   "source": [
    "accuracy = history.history[\"accuracy\"]\n",
    "val_accuracy = history.history[\"val_accuracy\"]\n",
    "loss = history.history[\"loss\"]\n",
    "val_loss = history.history[\"val_loss\"]\n",
    "epochs = range(1, len(accuracy) + 1)\n",
    "plt.plot(epochs, accuracy, \"bo\", label=\"Training accuracy\")\n",
    "plt.plot(epochs, val_accuracy, \"b\", label=\"Validation accuracy\")\n",
    "plt.title(\"Training and validation accuracy\")\n",
    "plt.legend()\n",
    "plt.figure()\n",
    "plt.plot(epochs, loss, \"bo\", label=\"Training loss\")\n",
    "plt.plot(epochs, val_loss, \"b\", label=\"Validation loss\")\n",
    "plt.title(\"Training and validation loss\")\n",
    "plt.legend()\n",
    "plt.show()"
   ]
  }
 ],
 "metadata": {
  "kernelspec": {
   "display_name": "Python 3",
   "language": "python",
   "name": "python3"
  },
  "language_info": {
   "codemirror_mode": {
    "name": "ipython",
    "version": 3
   },
   "file_extension": ".py",
   "mimetype": "text/x-python",
   "name": "python",
   "nbconvert_exporter": "python",
   "pygments_lexer": "ipython3",
   "version": "3.10.10"
  },
  "orig_nbformat": 4,
  "vscode": {
   "interpreter": {
    "hash": "45de9f1f31658a9be93a780c3d179c8408ed71997b8936e6748cc9e1d8c0ead4"
   }
  }
 },
 "nbformat": 4,
 "nbformat_minor": 2
}
