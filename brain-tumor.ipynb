{
 "cells": [
  {
   "cell_type": "code",
   "execution_count": 1,
   "metadata": {},
   "outputs": [],
   "source": [
    "# import tensorflow as tf\n",
    "from pathlib import Path\n",
    "import os\n",
    "import glob\n",
    "import shutil\n",
    "import matplotlib.pyplot as plt\n",
    "import cv2 as cv\n",
    "import random"
   ]
  },
  {
   "cell_type": "code",
   "execution_count": 60,
   "metadata": {},
   "outputs": [
    {
     "data": {
      "text/plain": [
       "'c:\\\\Users\\\\senanuk\\\\Documents\\\\brain-cnn\\\\brain_tumor_dataset'"
      ]
     },
     "execution_count": 60,
     "metadata": {},
     "output_type": "execute_result"
    }
   ],
   "source": [
    "dataset_path = Path(Path.cwd()/'brain_tumor_dataset')\n",
    "f'{dataset_path}'"
   ]
  },
  {
   "cell_type": "code",
   "execution_count": 60,
   "metadata": {},
   "outputs": [],
   "source": [
    "def createDirs(subDirName, dirName):\n",
    "    if not Path.exists(dataset_path/subDirName/dirName):\n",
    "        os.makedirs(dataset_path/subDirName/dirName)\n",
    "\n",
    "createDirs('test', 'negative')\n",
    "createDirs('train', 'negative')\n",
    "createDirs('validation', 'negative')\n",
    "\n",
    "createDirs('test', 'positive')\n",
    "createDirs('train', 'positive')\n",
    "createDirs('validation', 'positive')\n"
   ]
  },
  {
   "cell_type": "code",
   "execution_count": null,
   "metadata": {},
   "outputs": [],
   "source": [
    "num = 1\n",
    "for fileName in os.listdir(Path(dataset_path/'no')):\n",
    "    extension = fileName.split('.')[-1]\n",
    "    # print(extension)\n",
    "    shutil.move(Path(dataset_path/'no'/fileName), f\"{Path(dataset_path/'no'/'N-')}{num}.{extension}\"  )\n",
    "    num +=1"
   ]
  },
  {
   "cell_type": "code",
   "execution_count": 51,
   "metadata": {},
   "outputs": [
    {
     "name": "stdout",
     "output_type": "stream",
     "text": [
      "98 155\n"
     ]
    }
   ],
   "source": [
    "num_of_negs =len(os.listdir(dataset_path/'no'))\n",
    "num_of_pos = len(os.listdir(dataset_path/'yes'))\n",
    "print(num_of_negs, num_of_pos)"
   ]
  },
  {
   "cell_type": "code",
   "execution_count": null,
   "metadata": {},
   "outputs": [],
   "source": [
    "def moveToRespectiveDir(path, percentage_of_imgs, destination):\n",
    "    print(f\"Moving {percentage_of_imgs} to {destination}\")\n",
    "    for file in random.sample(path, percentage_of_imgs ):\n",
    "        shutil.move(file, dataset_path/destination)\n",
    "    print('Done')\n",
    "\n",
    "\n",
    "moveToRespectiveDir(list((dataset_path/'no').glob('N-*')),int(num_of_negs*0.2), 'test/negative')\n",
    "moveToRespectiveDir(list((dataset_path/'yes').glob('Y*')),int(num_of_pos*0.2), 'test/positive')\n",
    "\n",
    "moveToRespectiveDir(list((dataset_path/'no').glob('N-*')),int(num_of_negs*0.7), 'train/negative')\n",
    "moveToRespectiveDir(list((dataset_path/'yes').glob('Y*')),int(num_of_pos*0.7), 'train/positive')\n",
    "\n",
    "moveToRespectiveDir(list((dataset_path/'no').glob('N-*')),int(num_of_negs*0.1), 'validation/negative')\n",
    "moveToRespectiveDir(list((dataset_path/'yes').glob('Y*')),int(num_of_pos*0.1), 'validation/positive')\n",
    "\n",
    "# moveToRespectiveDir(list((dataset_path/'yes').glob('Y*')),int(num_of_negs*0.7), 'test/negative')"
   ]
  },
  {
   "cell_type": "code",
   "execution_count": null,
   "metadata": {},
   "outputs": [],
   "source": [
    "list((dataset_path/'no').glob('N-*'))"
   ]
  }
 ],
 "metadata": {
  "kernelspec": {
   "display_name": "Python 3",
   "language": "python",
   "name": "python3"
  },
  "language_info": {
   "codemirror_mode": {
    "name": "ipython",
    "version": 3
   },
   "file_extension": ".py",
   "mimetype": "text/x-python",
   "name": "python",
   "nbconvert_exporter": "python",
   "pygments_lexer": "ipython3",
   "version": "3.10.10"
  },
  "orig_nbformat": 4,
  "vscode": {
   "interpreter": {
    "hash": "45de9f1f31658a9be93a780c3d179c8408ed71997b8936e6748cc9e1d8c0ead4"
   }
  }
 },
 "nbformat": 4,
 "nbformat_minor": 2
}
